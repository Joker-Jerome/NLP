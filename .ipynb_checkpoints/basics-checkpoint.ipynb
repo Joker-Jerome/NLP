{
 "cells": [
  {
   "cell_type": "markdown",
   "metadata": {},
   "source": [
    "\n",
    "### modules loading"
   ]
  },
  {
   "cell_type": "code",
   "execution_count": 1,
   "metadata": {
    "collapsed": true
   },
   "outputs": [],
   "source": [
    "import nltk\n",
    "import os \n",
    "import numpy as np"
   ]
  },
  {
   "cell_type": "code",
   "execution_count": null,
   "metadata": {
    "collapsed": true
   },
   "outputs": [],
   "source": []
  },
  {
   "cell_type": "code",
   "execution_count": 2,
   "metadata": {
    "collapsed": true
   },
   "outputs": [],
   "source": [
    "sentence = \"At eight o'clock on Thursday morning on Thursday morning on Thursday morning.\"\n",
    "tokens = nltk.word_tokenize(sentence)"
   ]
  },
  {
   "cell_type": "code",
   "execution_count": 3,
   "metadata": {},
   "outputs": [
    {
     "data": {
      "text/plain": [
       "['At',\n",
       " 'eight',\n",
       " \"o'clock\",\n",
       " 'on',\n",
       " 'Thursday',\n",
       " 'morning',\n",
       " 'on',\n",
       " 'Thursday',\n",
       " 'morning',\n",
       " 'on',\n",
       " 'Thursday',\n",
       " 'morning',\n",
       " '.']"
      ]
     },
     "execution_count": 3,
     "metadata": {},
     "output_type": "execute_result"
    }
   ],
   "source": [
    "tokens"
   ]
  },
  {
   "cell_type": "code",
   "execution_count": null,
   "metadata": {
    "collapsed": true
   },
   "outputs": [],
   "source": []
  },
  {
   "cell_type": "code",
   "execution_count": 4,
   "metadata": {
    "collapsed": true
   },
   "outputs": [],
   "source": [
    "bigram_tuples = list(nltk.bigrams(tokens))\n",
    "trigram_tuples = list(nltk.trigrams(tokens))"
   ]
  },
  {
   "cell_type": "code",
   "execution_count": 5,
   "metadata": {},
   "outputs": [
    {
     "data": {
      "text/plain": [
       "[('At', 'eight'),\n",
       " ('eight', \"o'clock\"),\n",
       " (\"o'clock\", 'on'),\n",
       " ('on', 'Thursday'),\n",
       " ('Thursday', 'morning'),\n",
       " ('morning', 'on'),\n",
       " ('on', 'Thursday'),\n",
       " ('Thursday', 'morning'),\n",
       " ('morning', 'on'),\n",
       " ('on', 'Thursday'),\n",
       " ('Thursday', 'morning'),\n",
       " ('morning', '.')]"
      ]
     },
     "execution_count": 5,
     "metadata": {},
     "output_type": "execute_result"
    }
   ],
   "source": [
    "bigram_tuples"
   ]
  },
  {
   "cell_type": "code",
   "execution_count": 6,
   "metadata": {},
   "outputs": [
    {
     "data": {
      "text/plain": [
       "[('At', 'eight', \"o'clock\"),\n",
       " ('eight', \"o'clock\", 'on'),\n",
       " (\"o'clock\", 'on', 'Thursday'),\n",
       " ('on', 'Thursday', 'morning'),\n",
       " ('Thursday', 'morning', 'on'),\n",
       " ('morning', 'on', 'Thursday'),\n",
       " ('on', 'Thursday', 'morning'),\n",
       " ('Thursday', 'morning', 'on'),\n",
       " ('morning', 'on', 'Thursday'),\n",
       " ('on', 'Thursday', 'morning'),\n",
       " ('Thursday', 'morning', '.')]"
      ]
     },
     "execution_count": 6,
     "metadata": {},
     "output_type": "execute_result"
    }
   ],
   "source": [
    "trigram_tuples"
   ]
  },
  {
   "cell_type": "code",
   "execution_count": null,
   "metadata": {
    "collapsed": true
   },
   "outputs": [],
   "source": []
  },
  {
   "cell_type": "code",
   "execution_count": 8,
   "metadata": {},
   "outputs": [
    {
     "data": {
      "text/plain": [
       "{('At', 'eight'): 1,\n",
       " ('Thursday', 'morning'): 3,\n",
       " ('eight', \"o'clock\"): 1,\n",
       " ('morning', '.'): 1,\n",
       " ('morning', 'on'): 2,\n",
       " (\"o'clock\", 'on'): 1,\n",
       " ('on', 'Thursday'): 3}"
      ]
     },
     "execution_count": 8,
     "metadata": {},
     "output_type": "execute_result"
    }
   ],
   "source": [
    "count = {item : bigram_tuples.count(item) for item in set(bigram_tuples)}\n",
    "count"
   ]
  },
  {
   "cell_type": "markdown",
   "metadata": {},
   "source": [
    "\n",
    "### find all the distinct n-grams that contain the word “on”"
   ]
  },
  {
   "cell_type": "code",
   "execution_count": 9,
   "metadata": {},
   "outputs": [
    {
     "data": {
      "text/plain": [
       "[(\"o'clock\", 'on'), ('on', 'Thursday'), ('morning', 'on')]"
      ]
     },
     "execution_count": 9,
     "metadata": {},
     "output_type": "execute_result"
    }
   ],
   "source": [
    "ngrams = [item for item in set(bigram_tuples) if \"on\" in item]\n",
    "ngrams"
   ]
  },
  {
   "cell_type": "code",
   "execution_count": null,
   "metadata": {
    "collapsed": true
   },
   "outputs": [],
   "source": []
  },
  {
   "cell_type": "code",
   "execution_count": null,
   "metadata": {
    "collapsed": true
   },
   "outputs": [],
   "source": []
  }
 ],
 "metadata": {
  "kernelspec": {
   "display_name": "Python 3",
   "language": "python",
   "name": "python3"
  },
  "language_info": {
   "codemirror_mode": {
    "name": "ipython",
    "version": 3
   },
   "file_extension": ".py",
   "mimetype": "text/x-python",
   "name": "python",
   "nbconvert_exporter": "python",
   "pygments_lexer": "ipython3",
   "version": "3.6.3"
  }
 },
 "nbformat": 4,
 "nbformat_minor": 2
}
